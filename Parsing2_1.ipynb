{
  "nbformat": 4,
  "nbformat_minor": 0,
  "metadata": {
    "colab": {
      "provenance": [],
      "collapsed_sections": []
    },
    "kernelspec": {
      "name": "python3",
      "display_name": "Python 3"
    },
    "language_info": {
      "name": "python"
    }
  },
  "cells": [
    {
      "cell_type": "code",
      "execution_count": 1,
      "metadata": {
        "colab": {
          "base_uri": "https://localhost:8080/"
        },
        "id": "yZgGhaoS4lpu",
        "outputId": "f8ed2151-0e0c-4400-91f6-9c2565f43657"
      },
      "outputs": [
        {
          "output_type": "stream",
          "name": "stdout",
          "text": [
            "Looking in indexes: https://pypi.org/simple, https://us-python.pkg.dev/colab-wheels/public/simple/\n",
            "Requirement already satisfied: lxml in /usr/local/lib/python3.7/dist-packages (4.9.1)\n",
            "Looking in indexes: https://pypi.org/simple, https://us-python.pkg.dev/colab-wheels/public/simple/\n",
            "Requirement already satisfied: requests in /usr/local/lib/python3.7/dist-packages (2.23.0)\n",
            "Requirement already satisfied: certifi>=2017.4.17 in /usr/local/lib/python3.7/dist-packages (from requests) (2022.6.15)\n",
            "Requirement already satisfied: urllib3!=1.25.0,!=1.25.1,<1.26,>=1.21.1 in /usr/local/lib/python3.7/dist-packages (from requests) (1.24.3)\n",
            "Requirement already satisfied: idna<3,>=2.5 in /usr/local/lib/python3.7/dist-packages (from requests) (2.10)\n",
            "Requirement already satisfied: chardet<4,>=3.0.2 in /usr/local/lib/python3.7/dist-packages (from requests) (3.0.4)\n"
          ]
        }
      ],
      "source": [
        "!pip install lxml\n",
        "!pip install requests"
      ]
    },
    {
      "cell_type": "code",
      "source": [
        "from pprint import pprint\n",
        "from lxml import html\n",
        "import requests"
      ],
      "metadata": {
        "id": "d_DthgWl58GT"
      },
      "execution_count": 2,
      "outputs": []
    },
    {
      "cell_type": "code",
      "source": [
        "url = 'https://lenta.ru/parts/news/'\n",
        "headers = {\n",
        "    'User-Agent': 'Mozilla/5.0 (Windows NT 10.0; Win64; x64) AppleWebKit/537.36 (KHTML, like Gecko) Chrome/105.0.0.0 Safari/537.36',\n",
        "}\n",
        "#params = {\n",
        "#    'issue_tld': 'ru',\n",
        "#}\n"
      ],
      "metadata": {
        "id": "Dm0tbXj55_Bt"
      },
      "execution_count": 3,
      "outputs": []
    },
    {
      "cell_type": "code",
      "source": [
        "response = requests.get(url=url, headers=headers, params=\"\" )\n",
        "response.status_code, response.url"
      ],
      "metadata": {
        "colab": {
          "base_uri": "https://localhost:8080/"
        },
        "id": "wpZyO8Gu6RmS",
        "outputId": "0e975a73-c9a2-44e8-de21-9c7b5879ed4b"
      },
      "execution_count": 4,
      "outputs": [
        {
          "output_type": "execute_result",
          "data": {
            "text/plain": [
              "(200, 'https://lenta.ru/parts/news/')"
            ]
          },
          "metadata": {},
          "execution_count": 4
        }
      ]
    },
    {
      "cell_type": "code",
      "source": [
        "dom = html.fromstring(response.text)"
      ],
      "metadata": {
        "id": "rZ65jmW06ZkY"
      },
      "execution_count": 5,
      "outputs": []
    },
    {
      "cell_type": "code",
      "source": [
        "goods = dom.xpath(\"//ul[@class = 'parts-page__body _parts-news']/li[@class = 'parts-page__item']\")"
      ],
      "metadata": {
        "id": "qBZYKhib6bGM"
      },
      "execution_count": 6,
      "outputs": []
    },
    {
      "cell_type": "code",
      "source": [
        "goods"
      ],
      "metadata": {
        "colab": {
          "base_uri": "https://localhost:8080/"
        },
        "id": "adwHdyn_6n9j",
        "outputId": "a8fdb7cd-e9c1-4eda-e0dd-34050d7dea92"
      },
      "execution_count": 7,
      "outputs": [
        {
          "output_type": "execute_result",
          "data": {
            "text/plain": [
              "[<Element li at 0x7f0633eace30>,\n",
              " <Element li at 0x7f0633eace90>,\n",
              " <Element li at 0x7f0633eacef0>,\n",
              " <Element li at 0x7f0633eacf50>,\n",
              " <Element li at 0x7f0633eacfb0>,\n",
              " <Element li at 0x7f0633eae050>,\n",
              " <Element li at 0x7f0633eae0b0>,\n",
              " <Element li at 0x7f0633eae110>,\n",
              " <Element li at 0x7f0633eae170>,\n",
              " <Element li at 0x7f0633eae1d0>,\n",
              " <Element li at 0x7f0633eae230>,\n",
              " <Element li at 0x7f0633eae290>,\n",
              " <Element li at 0x7f0633eae2f0>,\n",
              " <Element li at 0x7f0633eae350>,\n",
              " <Element li at 0x7f0633eae3b0>,\n",
              " <Element li at 0x7f0633eae410>,\n",
              " <Element li at 0x7f0633eae470>,\n",
              " <Element li at 0x7f0633eae4d0>,\n",
              " <Element li at 0x7f0633eae530>,\n",
              " <Element li at 0x7f0633eae590>]"
            ]
          },
          "metadata": {},
          "execution_count": 7
        }
      ]
    },
    {
      "cell_type": "code",
      "source": [
        "len(goods)"
      ],
      "metadata": {
        "colab": {
          "base_uri": "https://localhost:8080/"
        },
        "id": "3FRs0cnS7RHS",
        "outputId": "d67bfc7a-62a2-42fd-dc15-82845e89513a"
      },
      "execution_count": 8,
      "outputs": [
        {
          "output_type": "execute_result",
          "data": {
            "text/plain": [
              "20"
            ]
          },
          "metadata": {},
          "execution_count": 8
        }
      ]
    },
    {
      "cell_type": "code",
      "source": [
        "for good in goods: \n",
        "  good_name = good.xpath(\".//a[@class = 'card-full-news _parts-news']/h3[@class = 'card-full-news__title']/text()\")\n",
        "  print(good_name)"
      ],
      "metadata": {
        "colab": {
          "base_uri": "https://localhost:8080/"
        },
        "id": "2JhdKZAg7WAC",
        "outputId": "442f651f-16b1-4830-f278-9d3b72d68368"
      },
      "execution_count": 11,
      "outputs": [
        {
          "output_type": "stream",
          "name": "stdout",
          "text": [
            "['Москвичи вспомнили «ужасный» аттракцион в Парке Горького']\n",
            "['Россиянам назвали необходимые для домашней аптечки лекарства']\n",
            "['В Запорожье заявили о проблемах иностранных наблюдателей на референдуме с визами']\n",
            "['В России начались испытания судна «Хаска-10»']\n",
            "['Дацик оценил свою победу над Емельяненко']\n",
            "['Известная певица назвала одну из самых сильных сторон Москвы']\n",
            "['Итальянский наблюдатель допустил санкции из-за присутствия на референдуме']\n",
            "['В России разработали профессиональный стандарт для бизнес-тренеров']\n",
            "['В США посоветовали Зеленскому оставить Крым в покое']\n",
            "['В США раскритиковали Киев за призыв нанести ядерный удар по России']\n",
            "['Россияне поделились воспоминаниями о любимом игровом автомате времен СССР']\n",
            "['В Херсонской области сообщили об обезвреженной группе украинских наводчиков']\n",
            "['Врач перечислил свидетельствующие о возможном расстройстве психики привычки']\n",
            "['В Госдуме возмутились сносу памятника солдатам Красной армии в Польше']\n",
            "['Хакер взломал PlayStation\\xa05 через ранее исправленную уязвимость']\n",
            "['Назван способный разрушить экономику предел раздувания доллара']\n",
            "['В Приморье пройдет выставка Репина']\n",
            "['Опубликовано фото места захоронения королевы Елизаветы II']\n",
            "['Действия Путина сочли крайне нежелательными для Байдена']\n",
            "['Стали известны адреса «плоских» домов в столице']\n"
          ]
        }
      ]
    },
    {
      "cell_type": "code",
      "source": [
        "for good in goods:\n",
        "  good_source = good.xpath(\".//a[@class = 'card-full-news _parts-news']/div[@class = 'card-full-news__info']/span[@class = 'card-full-news__info-item card-full-news__rubric']/text() and \")\n",
        "  print(good_source)"
      ],
      "metadata": {
        "colab": {
          "base_uri": "https://localhost:8080/"
        },
        "id": "4mzVeiIv--Gz",
        "outputId": "ae6ff9f9-818e-4050-b79b-ba53797c0547"
      },
      "execution_count": 13,
      "outputs": [
        {
          "output_type": "stream",
          "name": "stdout",
          "text": [
            "[]\n",
            "['Забота о себе']\n",
            "['Бывший СССР']\n",
            "['Наука и техника']\n",
            "['Спорт']\n",
            "[]\n",
            "['Бывший СССР']\n",
            "['Россия']\n",
            "['Мир']\n",
            "['Мир']\n",
            "[]\n",
            "['Бывший СССР']\n",
            "['Забота о себе']\n",
            "['Россия']\n",
            "['Наука и техника']\n",
            "['Экономика']\n",
            "['Моя страна']\n",
            "['Из жизни']\n",
            "['Мир']\n",
            "[]\n"
          ]
        }
      ]
    },
    {
      "cell_type": "code",
      "source": [],
      "metadata": {
        "id": "xpnpDkmoB4G0"
      },
      "execution_count": null,
      "outputs": []
    },
    {
      "cell_type": "code",
      "source": [],
      "metadata": {
        "id": "CfQPUPbYB4LA"
      },
      "execution_count": null,
      "outputs": []
    },
    {
      "cell_type": "code",
      "source": [
        "goods_list = []\n",
        "for good in goods:\n",
        "  good_name = good.xpath(\".//a[@class = 'card-full-news _parts-news']/h3[@class = 'card-full-news__title']/text()\")\n",
        "  if len(good_name) == 1:\n",
        "    good_name = good_name[0]\n",
        "  else:\n",
        "    good_name = None\n",
        "\n",
        "  good_source = good.xpath(\".//a[@class = 'card-full-news _parts-news']/div[@class = 'card-full-news__info']/span[@class = 'card-full-news__info-item card-full-news__rubric']/text()\")\n",
        "  if len(good_source) == 1:\n",
        "    good_source = good_source[0]\n",
        "  else:\n",
        "    good_source = None\n",
        "\n",
        "  good_link = good.xpath(\".//a[@class = 'card-full-news _parts-news']/@href\")\n",
        "  if len(good_link) == 1 and good_source != None:\n",
        "    good_link = 'https://lenta.ru' + good_link[0]\n",
        "  elif good_source == None:\n",
        "    good_link = good_link[0] \n",
        "  else:\n",
        "    good_link = None\n",
        "\n",
        "  good_date = good.xpath(\".//a[@class = 'card-full-news _parts-news']//time[@class = 'card-full-news__info-item card-full-news__date']/text()\")\n",
        "  if len(good_date) == 1:\n",
        "    good_date = good_date[0]\n",
        "  else:\n",
        "    good_date = None\n",
        "  good_dict = {\n",
        "      'name': good_name,\n",
        "      'source': good_source,\n",
        "      'link': good_link,\n",
        "      'date': good_date, \n",
        "  }\n",
        "  goods_list.append(good_dict)\n",
        "\n"
      ],
      "metadata": {
        "id": "aTKFBkkTA68c"
      },
      "execution_count": 42,
      "outputs": []
    },
    {
      "cell_type": "code",
      "source": [
        "goods_list"
      ],
      "metadata": {
        "colab": {
          "base_uri": "https://localhost:8080/"
        },
        "id": "i4KvCmkvBy7y",
        "outputId": "015e9de6-8522-4ffc-cb4d-9e930cc91231"
      },
      "execution_count": 43,
      "outputs": [
        {
          "output_type": "execute_result",
          "data": {
            "text/plain": [
              "[{'name': 'Москвичи вспомнили «ужасный» аттракцион в Парке Горького',\n",
              "  'source': None,\n",
              "  'link': 'https://moslenta.ru/news/istoriya/attrakcion-25-09-2022.htm',\n",
              "  'date': '07:25'},\n",
              " {'name': 'Россиянам назвали необходимые для домашней аптечки лекарства',\n",
              "  'source': 'Забота о себе',\n",
              "  'link': 'https://lenta.ru/news/2022/09/25/medication/',\n",
              "  'date': '07:11'},\n",
              " {'name': 'В Запорожье заявили о проблемах иностранных наблюдателей на референдуме с визами',\n",
              "  'source': 'Бывший СССР',\n",
              "  'link': 'https://lenta.ru/news/2022/09/25/visas/',\n",
              "  'date': '06:57'},\n",
              " {'name': 'В России начались испытания судна «Хаска-10»',\n",
              "  'source': 'Наука и техника',\n",
              "  'link': 'https://lenta.ru/news/2022/09/25/haska10/',\n",
              "  'date': '06:50'},\n",
              " {'name': 'Дацик оценил свою победу над Емельяненко',\n",
              "  'source': 'Спорт',\n",
              "  'link': 'https://lenta.ru/news/2022/09/25/antialc/',\n",
              "  'date': '06:37'},\n",
              " {'name': 'Известная певица назвала одну из самых сильных сторон Москвы',\n",
              "  'source': None,\n",
              "  'link': 'https://moslenta.ru/news/lyudi/galich-25-09-2022.htm/',\n",
              "  'date': '06:29'},\n",
              " {'name': 'Итальянский наблюдатель допустил санкции из-за присутствия на референдуме',\n",
              "  'source': 'Бывший СССР',\n",
              "  'link': 'https://lenta.ru/news/2022/09/25/ital/',\n",
              "  'date': '06:23'},\n",
              " {'name': 'В России разработали профессиональный стандарт для бизнес-тренеров',\n",
              "  'source': 'Россия',\n",
              "  'link': 'https://lenta.ru/news/2022/09/25/couch/',\n",
              "  'date': '06:20'},\n",
              " {'name': 'В США посоветовали Зеленскому оставить Крым в покое',\n",
              "  'source': 'Мир',\n",
              "  'link': 'https://lenta.ru/news/2022/09/25/ninada/',\n",
              "  'date': '06:10'},\n",
              " {'name': 'В США раскритиковали Киев за призыв нанести ядерный удар по России',\n",
              "  'source': 'Мир',\n",
              "  'link': 'https://lenta.ru/news/2022/09/25/threat/',\n",
              "  'date': '05:51'},\n",
              " {'name': 'Россияне поделились воспоминаниями о любимом игровом автомате времен СССР',\n",
              "  'source': None,\n",
              "  'link': 'https://moslenta.ru/news/istoriya/morskoi-boi-25-09-2022.htm/',\n",
              "  'date': '05:50'},\n",
              " {'name': 'В Херсонской области сообщили об обезвреженной группе украинских наводчиков',\n",
              "  'source': 'Бывший СССР',\n",
              "  'link': 'https://lenta.ru/news/2022/09/25/obezvr/',\n",
              "  'date': '05:20'},\n",
              " {'name': 'Врач перечислил свидетельствующие о возможном расстройстве психики привычки',\n",
              "  'source': 'Забота о себе',\n",
              "  'link': 'https://lenta.ru/news/2022/09/25/symptoms/',\n",
              "  'date': '05:12'},\n",
              " {'name': 'В Госдуме возмутились сносу памятника солдатам Красной армии в Польше',\n",
              "  'source': 'Россия',\n",
              "  'link': 'https://lenta.ru/news/2022/09/25/dpp/',\n",
              "  'date': '05:04'},\n",
              " {'name': 'Хакер взломал PlayStation\\xa05 через ранее исправленную уязвимость',\n",
              "  'source': 'Наука и техника',\n",
              "  'link': 'https://lenta.ru/news/2022/09/25/second_time/',\n",
              "  'date': '04:56'},\n",
              " {'name': 'Назван способный разрушить экономику предел раздувания доллара',\n",
              "  'source': 'Экономика',\n",
              "  'link': 'https://lenta.ru/news/2022/09/25/dollar/',\n",
              "  'date': '04:35'},\n",
              " {'name': 'В Приморье пройдет выставка Репина',\n",
              "  'source': 'Моя страна',\n",
              "  'link': 'https://lenta.ru/news/2022/09/25/repin/',\n",
              "  'date': '04:03'},\n",
              " {'name': 'Опубликовано фото места захоронения королевы Елизаветы II',\n",
              "  'source': 'Из жизни',\n",
              "  'link': 'https://lenta.ru/news/2022/09/25/nadgrobie/',\n",
              "  'date': '04:03'},\n",
              " {'name': 'Действия Путина сочли крайне нежелательными для Байдена',\n",
              "  'source': 'Мир',\n",
              "  'link': 'https://lenta.ru/news/2022/09/25/rasploh/',\n",
              "  'date': '04:02'},\n",
              " {'name': 'Стали известны адреса «плоских» домов в столице',\n",
              "  'source': None,\n",
              "  'link': 'https://moslenta.ru/news/city/ploskie-doma-25-09-2022.htm',\n",
              "  'date': '03:57'}]"
            ]
          },
          "metadata": {},
          "execution_count": 43
        }
      ]
    }
  ]
}