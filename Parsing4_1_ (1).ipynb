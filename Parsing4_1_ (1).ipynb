{
  "nbformat": 4,
  "nbformat_minor": 0,
  "metadata": {
    "colab": {
      "provenance": [],
      "collapsed_sections": []
    },
    "kernelspec": {
      "name": "python3",
      "display_name": "Python 3"
    },
    "language_info": {
      "name": "python"
    }
  },
  "cells": [
    {
      "cell_type": "code",
      "execution_count": 95,
      "metadata": {
        "colab": {
          "base_uri": "https://localhost:8080/"
        },
        "id": "ZlxruNZgE4VA",
        "outputId": "ecf29575-a197-4cf5-8bbf-2e95651cc6b5"
      },
      "outputs": [
        {
          "output_type": "stream",
          "name": "stdout",
          "text": [
            "Looking in indexes: https://pypi.org/simple, https://us-python.pkg.dev/colab-wheels/public/simple/\n",
            "Requirement already satisfied: bs4 in /usr/local/lib/python3.7/dist-packages (0.0.1)\n",
            "Requirement already satisfied: beautifulsoup4 in /usr/local/lib/python3.7/dist-packages (from bs4) (4.6.3)\n",
            "Looking in indexes: https://pypi.org/simple, https://us-python.pkg.dev/colab-wheels/public/simple/\n",
            "Requirement already satisfied: pymongo in /usr/local/lib/python3.7/dist-packages (4.2.0)\n"
          ]
        }
      ],
      "source": [
        "!pip install bs4\n",
        "!pip install pymongo"
      ]
    },
    {
      "cell_type": "code",
      "source": [
        "from bs4 import BeautifulSoup as bs\n",
        "import requests\n",
        "from re import search\n",
        "import re\n",
        "import pprint"
      ],
      "metadata": {
        "id": "-OtmJ1DlE7wx"
      },
      "execution_count": 96,
      "outputs": []
    },
    {
      "cell_type": "code",
      "source": [
        "!apt install mongodb > log "
      ],
      "metadata": {
        "colab": {
          "base_uri": "https://localhost:8080/"
        },
        "id": "ReybQHsfuZQW",
        "outputId": "491fee70-ca59-4c90-8f95-8a29dcd55dec"
      },
      "execution_count": 97,
      "outputs": [
        {
          "output_type": "stream",
          "name": "stdout",
          "text": [
            "\n",
            "WARNING: apt does not have a stable CLI interface. Use with caution in scripts.\n",
            "\n"
          ]
        }
      ]
    },
    {
      "cell_type": "code",
      "source": [
        "!service mongodb start"
      ],
      "metadata": {
        "colab": {
          "base_uri": "https://localhost:8080/"
        },
        "id": "_PX6LQ-cuZaW",
        "outputId": "b04a85d8-c75f-4786-d271-26600bbd8b1e"
      },
      "execution_count": 98,
      "outputs": [
        {
          "output_type": "stream",
          "name": "stdout",
          "text": [
            " * Starting database mongodb\n",
            "   ...done.\n"
          ]
        }
      ]
    },
    {
      "cell_type": "code",
      "source": [
        "from pymongo import MongoClient"
      ],
      "metadata": {
        "id": "J7i7WsMiuZd-"
      },
      "execution_count": 99,
      "outputs": []
    },
    {
      "cell_type": "code",
      "source": [
        "client = MongoClient()"
      ],
      "metadata": {
        "id": "NCBVKATtuZgt"
      },
      "execution_count": 100,
      "outputs": []
    },
    {
      "cell_type": "code",
      "source": [
        "db  = client.vacancies_db\n",
        "hhru_vac = db.hhru_vac\n"
      ],
      "metadata": {
        "id": "xT6EsjwGyP5k"
      },
      "execution_count": 101,
      "outputs": []
    },
    {
      "cell_type": "code",
      "source": [
        "headers = {'User-Agent': 'Mozilla/5.0 (Windows NT 10.0; Win64; x64) AppleWebKit/537.36 (KHTML, like Gecko) Chrome/105.0.0.0 Safari/537.36'}"
      ],
      "metadata": {
        "id": "y5YKT8BHyP8q"
      },
      "execution_count": 102,
      "outputs": []
    },
    {
      "cell_type": "code",
      "source": [
        "def hh_search (text):\n",
        "  url = 'https://barnaul.hh.ru/search/vacancy'\n",
        "#https://barnaul.hh.ru/search/vacancy?text=data+scientist&area=2&items_on_page=20&page=0\n",
        "#https://barnaul.hh.ru/search/vacancy?&text=data+scientist&area=2&items_on_page=20&page=0\n",
        "  params = {\n",
        "    'area': 2,\n",
        "  #  'search_field': 'description',\n",
        "   # 'search_field': 'company_name',\n",
        "    'text': text,\n",
        "    'items_on_page': 20,\n",
        "    'page': 0,\n",
        "\n",
        "}\n",
        " # headers = {'User-Agent': 'Mozilla/5.0 (Windows NT 10.0; Win64; x64) AppleWebKit/537.36 (KHTML, like Gecko) Chrome/105.0.0.0 Safari/537.36'}\n",
        "  vacancies_list = []\n",
        "  vacancy_dict = {}\n",
        "  hhru_vac.drop()\n",
        "  i = 0\n",
        "  while True:\n",
        "    response = requests.get(url=url, params=params, headers=headers)\n",
        "    soup = bs(response.text, 'html.parser')\n",
        "    vacancies = soup.find_all('div', {'class': 'serp-item'})\n",
        "    for vacancy in vacancies:\n",
        "      vacansy_name = vacancy.find('a', {'class': 'serp-item__title'}).getText()\n",
        "      vacansy_link = vacancy.find('a', {'class': 'serp-item__title'})['href']\n",
        "      vacansy_salary = vacancy.find('span', {'data-qa': 'vacancy-serp__vacancy-compensation'})\n",
        "      if vacansy_salary is not None:\n",
        "        vacansy_salary = vacansy_salary.getText()\n",
        "        if search('до', vacansy_salary):\n",
        "          salary_list = re.findall(r'\\d+', vacansy_salary) \n",
        "          max_salary = int(salary_list[0] + salary_list[1])\n",
        "          min_salary = None\n",
        "        elif search('от', vacansy_salary):\n",
        "          salary_list = re.findall(r'\\d+', vacansy_salary)\n",
        "          min_salary = int(salary_list[0] + salary_list[1])\n",
        "          max_salary = None\n",
        "        elif search(' – ', vacansy_salary):\n",
        "          salary_list = re.findall(r'\\d+', vacansy_salary)\n",
        "          if len(salary_list) < 3:\n",
        "            min_salary = int(salary_list[0]) \n",
        "            max_salary = int(salary_list[1]) \n",
        "          else:\n",
        "            min_salary = int(salary_list[0] + salary_list[1])\n",
        "            max_salary = int(salary_list[2] + salary_list[3])\n",
        "      else:\n",
        "        max_salary = None\n",
        "        min_salary = None\n",
        "      i = i + 1\n",
        "      vacancy_dict = {\n",
        "        'N': i,\n",
        "        'website': 'headhunter',\n",
        "        'name': vacansy_name,\n",
        "        #'link': vacansy_link,\n",
        "        'min_salary': min_salary,\n",
        "        'max_salary': max_salary,\n",
        "        }\n",
        "      vacancies_list.append(vacancy_dict)\n",
        "      hhru_vac.insert_one(vacancy_dict)\n",
        "    if len(vacancies) > 0:\n",
        "      params['page'] = params['page'] + 1  \n",
        "    else:\n",
        "      break\n",
        "  return(hhru_vac) \n"
      ],
      "metadata": {
        "id": "7nyCbl3PE-Kp"
      },
      "execution_count": 103,
      "outputs": []
    },
    {
      "cell_type": "code",
      "source": [
        "hh_search('Data Scientist')"
      ],
      "metadata": {
        "colab": {
          "base_uri": "https://localhost:8080/"
        },
        "id": "YD8ilZTIuUzP",
        "outputId": "c12ec69f-2bc4-40c8-d521-6dd1cb4e0e8d"
      },
      "execution_count": 104,
      "outputs": [
        {
          "output_type": "execute_result",
          "data": {
            "text/plain": [
              "Collection(Database(MongoClient(host=['localhost:27017'], document_class=dict, tz_aware=False, connect=True), 'vacancies_db'), 'hhru_vac')"
            ]
          },
          "metadata": {},
          "execution_count": 104
        }
      ]
    },
    {
      "cell_type": "code",
      "source": [
        "collection = hh_search('Data Scientist')"
      ],
      "metadata": {
        "id": "Cg66MOCzFZvI"
      },
      "execution_count": 105,
      "outputs": []
    },
    {
      "cell_type": "code",
      "source": [
        "for doc in collection.find():\n",
        "  print(doc)"
      ],
      "metadata": {
        "colab": {
          "base_uri": "https://localhost:8080/"
        },
        "id": "RQtQJ3jMFEAS",
        "outputId": "32a57cb9-9f11-4f9e-d67f-f0042376d189"
      },
      "execution_count": 106,
      "outputs": [
        {
          "output_type": "stream",
          "name": "stdout",
          "text": [
            "{'_id': ObjectId('633953125433945b7bd02c2f'), 'N': 1, 'website': 'headhunter', 'name': 'Data Scientist', 'min_salary': None, 'max_salary': None}\n",
            "{'_id': ObjectId('633953125433945b7bd02c30'), 'N': 2, 'website': 'headhunter', 'name': 'Data Scientist', 'min_salary': None, 'max_salary': None}\n",
            "{'_id': ObjectId('633953125433945b7bd02c31'), 'N': 3, 'website': 'headhunter', 'name': 'Data scientist/Antifraud analyst', 'min_salary': None, 'max_salary': None}\n",
            "{'_id': ObjectId('633953125433945b7bd02c32'), 'N': 4, 'website': 'headhunter', 'name': 'Риск-менеджер (Data Scientist)', 'min_salary': None, 'max_salary': None}\n",
            "{'_id': ObjectId('633953125433945b7bd02c33'), 'N': 5, 'website': 'headhunter', 'name': 'Data Scientist', 'min_salary': None, 'max_salary': None}\n",
            "{'_id': ObjectId('633953125433945b7bd02c34'), 'N': 6, 'website': 'headhunter', 'name': 'Data Scientist', 'min_salary': None, 'max_salary': 105000}\n",
            "{'_id': ObjectId('633953125433945b7bd02c35'), 'N': 7, 'website': 'headhunter', 'name': 'Senior Data Scientist', 'min_salary': None, 'max_salary': None}\n",
            "{'_id': ObjectId('633953125433945b7bd02c36'), 'N': 8, 'website': 'headhunter', 'name': 'Data Scientist CPA', 'min_salary': None, 'max_salary': None}\n",
            "{'_id': ObjectId('633953125433945b7bd02c37'), 'N': 9, 'website': 'headhunter', 'name': 'Senior Data Scientist', 'min_salary': None, 'max_salary': None}\n",
            "{'_id': ObjectId('633953125433945b7bd02c38'), 'N': 10, 'website': 'headhunter', 'name': 'Middle Data Scientist', 'min_salary': None, 'max_salary': None}\n",
            "{'_id': ObjectId('633953125433945b7bd02c39'), 'N': 11, 'website': 'headhunter', 'name': 'Data Scientist', 'min_salary': None, 'max_salary': None}\n",
            "{'_id': ObjectId('633953125433945b7bd02c3a'), 'N': 12, 'website': 'headhunter', 'name': 'Data Scientist', 'min_salary': None, 'max_salary': None}\n",
            "{'_id': ObjectId('633953125433945b7bd02c3b'), 'N': 13, 'website': 'headhunter', 'name': 'Data Scientist (Computer Vision)', 'min_salary': None, 'max_salary': None}\n",
            "{'_id': ObjectId('633953125433945b7bd02c3c'), 'N': 14, 'website': 'headhunter', 'name': 'Data Scientist', 'min_salary': None, 'max_salary': None}\n",
            "{'_id': ObjectId('633953125433945b7bd02c3d'), 'N': 15, 'website': 'headhunter', 'name': 'Data scientist (проект \"Моменты\")', 'min_salary': None, 'max_salary': None}\n",
            "{'_id': ObjectId('633953125433945b7bd02c3e'), 'N': 16, 'website': 'headhunter', 'name': 'Data scientist (проект \"Антиспам\")', 'min_salary': None, 'max_salary': None}\n",
            "{'_id': ObjectId('633953125433945b7bd02c3f'), 'N': 17, 'website': 'headhunter', 'name': 'Data scientist / Machine learning engineer (команда CoreML ВКонтакте)', 'min_salary': None, 'max_salary': None}\n",
            "{'_id': ObjectId('633953125433945b7bd02c40'), 'N': 18, 'website': 'headhunter', 'name': 'Data Scientist (Северсталь Диджитал)', 'min_salary': None, 'max_salary': None}\n",
            "{'_id': ObjectId('633953125433945b7bd02c41'), 'N': 19, 'website': 'headhunter', 'name': 'Senior Data Scientist (WAF)', 'min_salary': None, 'max_salary': None}\n",
            "{'_id': ObjectId('633953125433945b7bd02c42'), 'N': 20, 'website': 'headhunter', 'name': 'Middle/Senior Data Scientist', 'min_salary': 200000, 'max_salary': 400000}\n",
            "{'_id': ObjectId('633953145433945b7bd02c43'), 'N': 21, 'website': 'headhunter', 'name': 'Data Scientist, Эффективность рекламы', 'min_salary': None, 'max_salary': None}\n",
            "{'_id': ObjectId('633953145433945b7bd02c44'), 'N': 22, 'website': 'headhunter', 'name': 'Senior Data Scientist', 'min_salary': None, 'max_salary': None}\n",
            "{'_id': ObjectId('633953145433945b7bd02c45'), 'N': 23, 'website': 'headhunter', 'name': 'Data Scientist, Поисковый рантайм, NLP', 'min_salary': None, 'max_salary': None}\n",
            "{'_id': ObjectId('633953145433945b7bd02c46'), 'N': 24, 'website': 'headhunter', 'name': 'Data Engineer', 'min_salary': None, 'max_salary': None}\n",
            "{'_id': ObjectId('633953145433945b7bd02c47'), 'N': 25, 'website': 'headhunter', 'name': 'Lead/Senior Data Scientist', 'min_salary': None, 'max_salary': None}\n",
            "{'_id': ObjectId('633953145433945b7bd02c48'), 'N': 26, 'website': 'headhunter', 'name': 'Middle Data Scientist', 'min_salary': None, 'max_salary': None}\n",
            "{'_id': ObjectId('633953145433945b7bd02c49'), 'N': 27, 'website': 'headhunter', 'name': 'Senior Data Scientist', 'min_salary': None, 'max_salary': None}\n",
            "{'_id': ObjectId('633953145433945b7bd02c4a'), 'N': 28, 'website': 'headhunter', 'name': 'Data Analyst (Neurotech & Sport)', 'min_salary': None, 'max_salary': None}\n",
            "{'_id': ObjectId('633953145433945b7bd02c4b'), 'N': 29, 'website': 'headhunter', 'name': 'Senior / Lead Data scientist', 'min_salary': None, 'max_salary': None}\n",
            "{'_id': ObjectId('633953145433945b7bd02c4c'), 'N': 30, 'website': 'headhunter', 'name': 'Data Scientist', 'min_salary': None, 'max_salary': None}\n",
            "{'_id': ObjectId('633953145433945b7bd02c4d'), 'N': 31, 'website': 'headhunter', 'name': 'Data Engineer (Северсталь Диджитал)', 'min_salary': None, 'max_salary': None}\n",
            "{'_id': ObjectId('633953145433945b7bd02c4e'), 'N': 32, 'website': 'headhunter', 'name': 'Senior System Analyst', 'min_salary': None, 'max_salary': None}\n",
            "{'_id': ObjectId('633953145433945b7bd02c4f'), 'N': 33, 'website': 'headhunter', 'name': 'Старший аналитик', 'min_salary': None, 'max_salary': None}\n",
            "{'_id': ObjectId('633953145433945b7bd02c50'), 'N': 34, 'website': 'headhunter', 'name': 'Руководитель по продуктам компьютерного зрения (CV)', 'min_salary': None, 'max_salary': None}\n",
            "{'_id': ObjectId('633953145433945b7bd02c51'), 'N': 35, 'website': 'headhunter', 'name': 'Product Owner (Продукт: компьютерное зрение (CV))', 'min_salary': None, 'max_salary': None}\n",
            "{'_id': ObjectId('633953145433945b7bd02c52'), 'N': 36, 'website': 'headhunter', 'name': 'Аналитик по динамическому ценообразованию', 'min_salary': 120000, 'max_salary': None}\n",
            "{'_id': ObjectId('633953145433945b7bd02c53'), 'N': 37, 'website': 'headhunter', 'name': 'Менеджер проекта (Дата проекта)', 'min_salary': None, 'max_salary': None}\n"
          ]
        }
      ]
    },
    {
      "cell_type": "code",
      "source": [
        "def find_salary():\n",
        "  salary = int(input('Введите минимальную зарплату для поиска: '))\n",
        "  expensive_vacs = hhru_vac.find({'min_salary':{'$gte':salary}}).sort('min_salary')\n",
        "  print('Вакансии с заработной платой больше ', salary)\n",
        "  for item in expensive_vacs:\n",
        "    print(item)\n",
        "  \n",
        "\n",
        "find_salary()"
      ],
      "metadata": {
        "id": "nnlvJqOwuU5I",
        "colab": {
          "base_uri": "https://localhost:8080/"
        },
        "outputId": "ea9179b4-3a76-4f51-e051-93c690d254ed"
      },
      "execution_count": 107,
      "outputs": [
        {
          "output_type": "stream",
          "name": "stdout",
          "text": [
            "Введите минимальную зарплату для поиска: 100\n",
            "Вакансии с заработной платой больше  100\n",
            "{'_id': ObjectId('633953145433945b7bd02c52'), 'N': 36, 'website': 'headhunter', 'name': 'Аналитик по динамическому ценообразованию', 'min_salary': 120000, 'max_salary': None}\n",
            "{'_id': ObjectId('633953125433945b7bd02c42'), 'N': 20, 'website': 'headhunter', 'name': 'Middle/Senior Data Scientist', 'min_salary': 200000, 'max_salary': 400000}\n"
          ]
        }
      ]
    },
    {
      "cell_type": "code",
      "source": [
        "number_vacancies = len(list(db.hhru_vac.find()))\n",
        "print(\"Всего %d вакансий\" %number_vacancies)"
      ],
      "metadata": {
        "colab": {
          "base_uri": "https://localhost:8080/"
        },
        "id": "MOLuu92s9ieQ",
        "outputId": "222f2a04-3c64-4275-ae0a-ab946ca1526a"
      },
      "execution_count": 110,
      "outputs": [
        {
          "output_type": "stream",
          "name": "stdout",
          "text": [
            "Всего 37 вакансий\n"
          ]
        }
      ]
    }
  ]
}