{
  "nbformat": 4,
  "nbformat_minor": 0,
  "metadata": {
    "colab": {
      "provenance": [],
      "collapsed_sections": []
    },
    "kernelspec": {
      "name": "python3",
      "display_name": "Python 3"
    },
    "language_info": {
      "name": "python"
    }
  },
  "cells": [
    {
      "cell_type": "code",
      "execution_count": 1,
      "metadata": {
        "colab": {
          "base_uri": "https://localhost:8080/"
        },
        "id": "ZlxruNZgE4VA",
        "outputId": "a6d4afbb-0650-4615-9623-2c9a1c84d570"
      },
      "outputs": [
        {
          "output_type": "stream",
          "name": "stdout",
          "text": [
            "Looking in indexes: https://pypi.org/simple, https://us-python.pkg.dev/colab-wheels/public/simple/\n",
            "Requirement already satisfied: bs4 in /usr/local/lib/python3.7/dist-packages (0.0.1)\n",
            "Requirement already satisfied: beautifulsoup4 in /usr/local/lib/python3.7/dist-packages (from bs4) (4.6.3)\n"
          ]
        }
      ],
      "source": [
        "!pip install bs4"
      ]
    },
    {
      "cell_type": "code",
      "source": [
        "from bs4 import BeautifulSoup as bs\n",
        "import requests\n",
        "from re import search\n",
        "import re\n",
        "import pprint"
      ],
      "metadata": {
        "id": "-OtmJ1DlE7wx"
      },
      "execution_count": 2,
      "outputs": []
    },
    {
      "cell_type": "code",
      "source": [
        "url = 'https://barnaul.hh.ru/search/vacancy'\n",
        "#https://barnaul.hh.ru/search/vacancy?text=data+scientist&area=2&items_on_page=20&page=0\n",
        "#https://barnaul.hh.ru/search/vacancy?&text=data+scientist&area=2&items_on_page=20&page=0\n",
        "params = {\n",
        "    'area': 2,\n",
        "  #  'search_field': 'description',\n",
        "   # 'search_field': 'company_name',\n",
        "    'text': 'Data scientist',\n",
        "    'items_on_page': 20,\n",
        "    'page': 0,\n",
        "\n",
        "}\n",
        "headers = {'User-Agent': 'Mozilla/5.0 (Windows NT 10.0; Win64; x64) AppleWebKit/537.36 (KHTML, like Gecko) Chrome/105.0.0.0 Safari/537.36'}\n",
        "vacancies_list = []\n",
        "i = 0\n",
        "while True:\n",
        "  response = requests.get(url=url, params=params, headers=headers)\n",
        "  soup = bs(response.text, 'html.parser')\n",
        "  vacancies = soup.find_all('div', {'class': 'serp-item'})\n",
        "  for vacancy in vacancies:\n",
        "    vacansy_name = vacancy.find('a', {'class': 'serp-item__title'}).getText()\n",
        "    vacansy_link = vacancy.find('a', {'class': 'serp-item__title'})['href']\n",
        "    vacansy_salary = vacancy.find('span', {'data-qa': 'vacancy-serp__vacancy-compensation'})\n",
        "    if vacansy_salary is not None:\n",
        "      vacansy_salary = vacansy_salary.getText()\n",
        "      if search('до', vacansy_salary):\n",
        "        salary_list = re.findall(r'\\d+', vacansy_salary) \n",
        "        max_salary = salary_list[0] + salary_list[1]\n",
        "        min_salary = None\n",
        "      elif search('от', vacansy_salary):\n",
        "        salary_list = re.findall(r'\\d+', vacansy_salary)\n",
        "        min_salary = salary_list[0] + salary_list[1]\n",
        "        max_salary = None\n",
        "      elif search(' – ', vacansy_salary):\n",
        "        salary_list = re.findall(r'\\d+', vacansy_salary)\n",
        "        if len(salary_list) < 3:\n",
        "          min_salary = salary_list[0] \n",
        "          max_salary =  salary_list[1] \n",
        "        else:\n",
        "          min_salary = salary_list[0] + salary_list[1]\n",
        "          max_salary = salary_list[2] + salary_list[3]\n",
        "    else:\n",
        "      max_salary = None\n",
        "      min_salary = None\n",
        "    i = i + 1\n",
        "    vacancy_dict = {\n",
        "      'N': i,\n",
        "      'name': vacansy_name,\n",
        "      'link': vacansy_link,\n",
        "      'min_salary': min_salary,\n",
        "      'max_salary': max_salary,\n",
        "      }\n",
        "    vacancies_list.append(vacancy_dict)\n",
        "  if len(vacancies) > 0:\n",
        "    params['page'] = params['page'] + 1  \n",
        "  else:\n",
        "    break\n"
      ],
      "metadata": {
        "id": "7nyCbl3PE-Kp"
      },
      "execution_count": 61,
      "outputs": []
    },
    {
      "cell_type": "code",
      "source": [
        "vacancies_list"
      ],
      "metadata": {
        "colab": {
          "base_uri": "https://localhost:8080/"
        },
        "id": "jvpbNK8FF2wQ",
        "outputId": "a29dce9c-62a2-458b-e329-93dc12698636"
      },
      "execution_count": 62,
      "outputs": [
        {
          "output_type": "execute_result",
          "data": {
            "text/plain": [
              "[{'N': 1,\n",
              "  'name': 'Data Scientist',\n",
              "  'link': 'https://barnaul.hh.ru/vacancy/70360322?from=vacancy_search_list&hhtmFrom=vacancy_search_list&query=Data%20scientist',\n",
              "  'min_salary': None,\n",
              "  'max_salary': '105000'},\n",
              " {'N': 2,\n",
              "  'name': 'Data Scientist',\n",
              "  'link': 'https://barnaul.hh.ru/vacancy/70483879?from=vacancy_search_list&hhtmFrom=vacancy_search_list&query=Data%20scientist',\n",
              "  'min_salary': None,\n",
              "  'max_salary': None},\n",
              " {'N': 3,\n",
              "  'name': 'Data Scientist',\n",
              "  'link': 'https://barnaul.hh.ru/vacancy/69651789?from=vacancy_search_list&hhtmFrom=vacancy_search_list&query=Data%20scientist',\n",
              "  'min_salary': None,\n",
              "  'max_salary': None},\n",
              " {'N': 4,\n",
              "  'name': 'Data scientist/Antifraud analyst',\n",
              "  'link': 'https://barnaul.hh.ru/vacancy/68898421?from=vacancy_search_list&hhtmFrom=vacancy_search_list&query=Data%20scientist',\n",
              "  'min_salary': None,\n",
              "  'max_salary': None},\n",
              " {'N': 5,\n",
              "  'name': 'Риск-менеджер (Data Scientist)',\n",
              "  'link': 'https://barnaul.hh.ru/vacancy/70514581?from=vacancy_search_list&hhtmFrom=vacancy_search_list&query=Data%20scientist',\n",
              "  'min_salary': None,\n",
              "  'max_salary': None},\n",
              " {'N': 6,\n",
              "  'name': 'Middle Data Scientist',\n",
              "  'link': 'https://barnaul.hh.ru/vacancy/68377571?from=vacancy_search_list&hhtmFrom=vacancy_search_list&query=Data%20scientist',\n",
              "  'min_salary': None,\n",
              "  'max_salary': None},\n",
              " {'N': 7,\n",
              "  'name': 'Data Scientist CPA',\n",
              "  'link': 'https://barnaul.hh.ru/vacancy/69292570?from=vacancy_search_list&hhtmFrom=vacancy_search_list&query=Data%20scientist',\n",
              "  'min_salary': None,\n",
              "  'max_salary': None},\n",
              " {'N': 8,\n",
              "  'name': 'Senior Data Scientist',\n",
              "  'link': 'https://barnaul.hh.ru/vacancy/53885115?from=vacancy_search_list&hhtmFrom=vacancy_search_list&query=Data%20scientist',\n",
              "  'min_salary': None,\n",
              "  'max_salary': None},\n",
              " {'N': 9,\n",
              "  'name': 'Data Scientist',\n",
              "  'link': 'https://barnaul.hh.ru/vacancy/69410764?from=vacancy_search_list&hhtmFrom=vacancy_search_list&query=Data%20scientist',\n",
              "  'min_salary': None,\n",
              "  'max_salary': None},\n",
              " {'N': 10,\n",
              "  'name': 'Data Scientist',\n",
              "  'link': 'https://barnaul.hh.ru/vacancy/69245215?from=vacancy_search_list&hhtmFrom=vacancy_search_list&query=Data%20scientist',\n",
              "  'min_salary': None,\n",
              "  'max_salary': None},\n",
              " {'N': 11,\n",
              "  'name': 'Data Scientist (Computer Vision)',\n",
              "  'link': 'https://barnaul.hh.ru/vacancy/69245197?from=vacancy_search_list&hhtmFrom=vacancy_search_list&query=Data%20scientist',\n",
              "  'min_salary': None,\n",
              "  'max_salary': None},\n",
              " {'N': 12,\n",
              "  'name': 'Data Scientist',\n",
              "  'link': 'https://barnaul.hh.ru/vacancy/67054541?from=vacancy_search_list&hhtmFrom=vacancy_search_list&query=Data%20scientist',\n",
              "  'min_salary': None,\n",
              "  'max_salary': None},\n",
              " {'N': 13,\n",
              "  'name': 'Data scientist (проект \"Моменты\")',\n",
              "  'link': 'https://barnaul.hh.ru/vacancy/69016625?from=vacancy_search_list&hhtmFrom=vacancy_search_list&query=Data%20scientist',\n",
              "  'min_salary': None,\n",
              "  'max_salary': None},\n",
              " {'N': 14,\n",
              "  'name': 'Senior Data Scientist (WAF)',\n",
              "  'link': 'https://barnaul.hh.ru/vacancy/69074029?from=vacancy_search_list&hhtmFrom=vacancy_search_list&query=Data%20scientist',\n",
              "  'min_salary': None,\n",
              "  'max_salary': None},\n",
              " {'N': 15,\n",
              "  'name': 'Data scientist / Machine learning engineer (команда CoreML ВКонтакте)',\n",
              "  'link': 'https://barnaul.hh.ru/vacancy/69824471?from=vacancy_search_list&hhtmFrom=vacancy_search_list&query=Data%20scientist',\n",
              "  'min_salary': None,\n",
              "  'max_salary': None},\n",
              " {'N': 16,\n",
              "  'name': 'Data scientist (проект \"Антиспам\")',\n",
              "  'link': 'https://barnaul.hh.ru/vacancy/69774675?from=vacancy_search_list&hhtmFrom=vacancy_search_list&query=Data%20scientist',\n",
              "  'min_salary': None,\n",
              "  'max_salary': None},\n",
              " {'N': 17,\n",
              "  'name': 'Data Scientist (Северсталь Диджитал)',\n",
              "  'link': 'https://barnaul.hh.ru/vacancy/69888108?from=vacancy_search_list&hhtmFrom=vacancy_search_list&query=Data%20scientist',\n",
              "  'min_salary': None,\n",
              "  'max_salary': None},\n",
              " {'N': 18,\n",
              "  'name': 'Middle/Senior Data Scientist',\n",
              "  'link': 'https://barnaul.hh.ru/vacancy/69492359?from=vacancy_search_list&hhtmFrom=vacancy_search_list&query=Data%20scientist',\n",
              "  'min_salary': '200000',\n",
              "  'max_salary': '400000'},\n",
              " {'N': 19,\n",
              "  'name': 'Data Scientist, Эффективность рекламы',\n",
              "  'link': 'https://barnaul.hh.ru/vacancy/68218897?from=vacancy_search_list&hhtmFrom=vacancy_search_list&query=Data%20scientist',\n",
              "  'min_salary': None,\n",
              "  'max_salary': None},\n",
              " {'N': 20,\n",
              "  'name': 'Data Scientist, Поисковый рантайм, NLP',\n",
              "  'link': 'https://barnaul.hh.ru/vacancy/55433917?from=vacancy_search_list&hhtmFrom=vacancy_search_list&query=Data%20scientist',\n",
              "  'min_salary': None,\n",
              "  'max_salary': None},\n",
              " {'N': 21,\n",
              "  'name': 'Data Engineer',\n",
              "  'link': 'https://barnaul.hh.ru/vacancy/69862641?from=vacancy_search_list&hhtmFrom=vacancy_search_list&query=Data%20scientist',\n",
              "  'min_salary': None,\n",
              "  'max_salary': None},\n",
              " {'N': 22,\n",
              "  'name': 'Senior Data Scientist',\n",
              "  'link': 'https://barnaul.hh.ru/vacancy/46213657?from=vacancy_search_list&hhtmFrom=vacancy_search_list&query=Data%20scientist',\n",
              "  'min_salary': None,\n",
              "  'max_salary': None},\n",
              " {'N': 23,\n",
              "  'name': 'Data Scientist, Поисковый рантайм, NLP',\n",
              "  'link': 'https://barnaul.hh.ru/vacancy/55433917?from=vacancy_search_list&hhtmFrom=vacancy_search_list&query=Data%20scientist',\n",
              "  'min_salary': None,\n",
              "  'max_salary': None},\n",
              " {'N': 24,\n",
              "  'name': 'Middle Data Scientist',\n",
              "  'link': 'https://barnaul.hh.ru/vacancy/69471842?from=vacancy_search_list&hhtmFrom=vacancy_search_list&query=Data%20scientist',\n",
              "  'min_salary': None,\n",
              "  'max_salary': None},\n",
              " {'N': 25,\n",
              "  'name': 'Senior Data Scientist',\n",
              "  'link': 'https://barnaul.hh.ru/vacancy/69706890?from=vacancy_search_list&hhtmFrom=vacancy_search_list&query=Data%20scientist',\n",
              "  'min_salary': None,\n",
              "  'max_salary': None},\n",
              " {'N': 26,\n",
              "  'name': 'Lead/Senior Data Scientist',\n",
              "  'link': 'https://barnaul.hh.ru/vacancy/69859241?from=vacancy_search_list&hhtmFrom=vacancy_search_list&query=Data%20scientist',\n",
              "  'min_salary': None,\n",
              "  'max_salary': None},\n",
              " {'N': 27,\n",
              "  'name': 'Data Analyst (Neurotech & Sport)',\n",
              "  'link': 'https://barnaul.hh.ru/vacancy/55271924?from=vacancy_search_list&hhtmFrom=vacancy_search_list&query=Data%20scientist',\n",
              "  'min_salary': None,\n",
              "  'max_salary': None},\n",
              " {'N': 28,\n",
              "  'name': 'Senior / Lead Data scientist',\n",
              "  'link': 'https://barnaul.hh.ru/vacancy/69605023?from=vacancy_search_list&hhtmFrom=vacancy_search_list&query=Data%20scientist',\n",
              "  'min_salary': None,\n",
              "  'max_salary': None},\n",
              " {'N': 29,\n",
              "  'name': 'Senior Bioinformatics Scientist (Yerevan)',\n",
              "  'link': 'https://barnaul.hh.ru/vacancy/69342076?from=vacancy_search_list&hhtmFrom=vacancy_search_list&query=Data%20scientist',\n",
              "  'min_salary': None,\n",
              "  'max_salary': None},\n",
              " {'N': 30,\n",
              "  'name': 'Data Scientist',\n",
              "  'link': 'https://barnaul.hh.ru/vacancy/69010140?from=vacancy_search_list&hhtmFrom=vacancy_search_list&query=Data%20scientist',\n",
              "  'min_salary': None,\n",
              "  'max_salary': None},\n",
              " {'N': 31,\n",
              "  'name': 'Data Engineer (Северсталь Диджитал)',\n",
              "  'link': 'https://barnaul.hh.ru/vacancy/70528746?from=vacancy_search_list&hhtmFrom=vacancy_search_list&query=Data%20scientist',\n",
              "  'min_salary': None,\n",
              "  'max_salary': None},\n",
              " {'N': 32,\n",
              "  'name': 'Старший аналитик',\n",
              "  'link': 'https://barnaul.hh.ru/vacancy/66098655?from=vacancy_search_list&hhtmFrom=vacancy_search_list&query=Data%20scientist',\n",
              "  'min_salary': None,\n",
              "  'max_salary': None},\n",
              " {'N': 33,\n",
              "  'name': 'Senior System Analyst',\n",
              "  'link': 'https://barnaul.hh.ru/vacancy/70176625?from=vacancy_search_list&hhtmFrom=vacancy_search_list&query=Data%20scientist',\n",
              "  'min_salary': None,\n",
              "  'max_salary': None},\n",
              " {'N': 34,\n",
              "  'name': 'Product Owner (Продукт: компьютерное зрение (CV))',\n",
              "  'link': 'https://barnaul.hh.ru/vacancy/69748730?from=vacancy_search_list&hhtmFrom=vacancy_search_list&query=Data%20scientist',\n",
              "  'min_salary': None,\n",
              "  'max_salary': None},\n",
              " {'N': 35,\n",
              "  'name': 'Руководитель по продуктам компьютерного зрения (CV)',\n",
              "  'link': 'https://barnaul.hh.ru/vacancy/69716601?from=vacancy_search_list&hhtmFrom=vacancy_search_list&query=Data%20scientist',\n",
              "  'min_salary': None,\n",
              "  'max_salary': None},\n",
              " {'N': 36,\n",
              "  'name': 'Аналитик по динамическому ценообразованию',\n",
              "  'link': 'https://barnaul.hh.ru/vacancy/69972636?from=vacancy_search_list&hhtmFrom=vacancy_search_list&query=Data%20scientist',\n",
              "  'min_salary': '120000',\n",
              "  'max_salary': None},\n",
              " {'N': 37,\n",
              "  'name': 'Hygge Assistant',\n",
              "  'link': 'https://barnaul.hh.ru/vacancy/70469051?from=vacancy_search_list&hhtmFrom=vacancy_search_list&query=Data%20scientist',\n",
              "  'min_salary': '400',\n",
              "  'max_salary': '800'},\n",
              " {'N': 38,\n",
              "  'name': 'IT Talent Sourcer (ИТ Сорсер) в Геосервисы',\n",
              "  'link': 'https://barnaul.hh.ru/vacancy/69991956?from=vacancy_search_list&hhtmFrom=vacancy_search_list&query=Data%20scientist',\n",
              "  'min_salary': None,\n",
              "  'max_salary': None},\n",
              " {'N': 39,\n",
              "  'name': 'Менеджер проекта (Дата проекта)',\n",
              "  'link': 'https://barnaul.hh.ru/vacancy/69894832?from=vacancy_search_list&hhtmFrom=vacancy_search_list&query=Data%20scientist',\n",
              "  'min_salary': None,\n",
              "  'max_salary': None}]"
            ]
          },
          "metadata": {},
          "execution_count": 62
        }
      ]
    },
    {
      "cell_type": "code",
      "source": [
        "type(vacancies_list)"
      ],
      "metadata": {
        "colab": {
          "base_uri": "https://localhost:8080/"
        },
        "id": "QxrCJ-6uW6i7",
        "outputId": "9a74f9c8-75ac-4396-ed7c-2dc26c606912"
      },
      "execution_count": 63,
      "outputs": [
        {
          "output_type": "execute_result",
          "data": {
            "text/plain": [
              "list"
            ]
          },
          "metadata": {},
          "execution_count": 63
        }
      ]
    },
    {
      "cell_type": "code",
      "source": [
        "response.status_code"
      ],
      "metadata": {
        "colab": {
          "base_uri": "https://localhost:8080/"
        },
        "id": "ql21vT4hGKun",
        "outputId": "1068830e-d77c-4ada-cd2f-8279a99beaf1"
      },
      "execution_count": 14,
      "outputs": [
        {
          "output_type": "execute_result",
          "data": {
            "text/plain": [
              "200"
            ]
          },
          "metadata": {},
          "execution_count": 14
        }
      ]
    },
    {
      "cell_type": "code",
      "source": [
        "import pandas as pd\n"
      ],
      "metadata": {
        "id": "4x5G0XLYZako"
      },
      "execution_count": 64,
      "outputs": []
    },
    {
      "cell_type": "code",
      "source": [
        "print(pd.DataFrame(vacancies_list))"
      ],
      "metadata": {
        "colab": {
          "base_uri": "https://localhost:8080/"
        },
        "id": "Ou_3PMalZcbQ",
        "outputId": "1a7a60be-29b3-463e-ab1a-3f89c7bee39d"
      },
      "execution_count": 66,
      "outputs": [
        {
          "output_type": "stream",
          "name": "stdout",
          "text": [
            "     N                                               name  \\\n",
            "0    1                                     Data Scientist   \n",
            "1    2                                     Data Scientist   \n",
            "2    3                                     Data Scientist   \n",
            "3    4                   Data scientist/Antifraud analyst   \n",
            "4    5                     Риск-менеджер (Data Scientist)   \n",
            "5    6                              Middle Data Scientist   \n",
            "6    7                                 Data Scientist CPA   \n",
            "7    8                              Senior Data Scientist   \n",
            "8    9                                     Data Scientist   \n",
            "9   10                                     Data Scientist   \n",
            "10  11                   Data Scientist (Computer Vision)   \n",
            "11  12                                     Data Scientist   \n",
            "12  13                  Data scientist (проект \"Моменты\")   \n",
            "13  14                        Senior Data Scientist (WAF)   \n",
            "14  15  Data scientist / Machine learning engineer (ко...   \n",
            "15  16                 Data scientist (проект \"Антиспам\")   \n",
            "16  17               Data Scientist (Северсталь Диджитал)   \n",
            "17  18                       Middle/Senior Data Scientist   \n",
            "18  19              Data Scientist, Эффективность рекламы   \n",
            "19  20             Data Scientist, Поисковый рантайм, NLP   \n",
            "20  21                                      Data Engineer   \n",
            "21  22                              Senior Data Scientist   \n",
            "22  23             Data Scientist, Поисковый рантайм, NLP   \n",
            "23  24                              Middle Data Scientist   \n",
            "24  25                              Senior Data Scientist   \n",
            "25  26                         Lead/Senior Data Scientist   \n",
            "26  27                   Data Analyst (Neurotech & Sport)   \n",
            "27  28                       Senior / Lead Data scientist   \n",
            "28  29          Senior Bioinformatics Scientist (Yerevan)   \n",
            "29  30                                     Data Scientist   \n",
            "30  31                Data Engineer (Северсталь Диджитал)   \n",
            "31  32                                   Старший аналитик   \n",
            "32  33                              Senior System Analyst   \n",
            "33  34  Product Owner (Продукт: компьютерное зрение (CV))   \n",
            "34  35  Руководитель по продуктам компьютерного зрения...   \n",
            "35  36          Аналитик по динамическому ценообразованию   \n",
            "36  37                                    Hygge Assistant   \n",
            "37  38         IT Talent Sourcer (ИТ Сорсер) в Геосервисы   \n",
            "38  39                    Менеджер проекта (Дата проекта)   \n",
            "\n",
            "                                                 link min_salary max_salary  \n",
            "0   https://barnaul.hh.ru/vacancy/70360322?from=va...       None     105000  \n",
            "1   https://barnaul.hh.ru/vacancy/70483879?from=va...       None       None  \n",
            "2   https://barnaul.hh.ru/vacancy/69651789?from=va...       None       None  \n",
            "3   https://barnaul.hh.ru/vacancy/68898421?from=va...       None       None  \n",
            "4   https://barnaul.hh.ru/vacancy/70514581?from=va...       None       None  \n",
            "5   https://barnaul.hh.ru/vacancy/68377571?from=va...       None       None  \n",
            "6   https://barnaul.hh.ru/vacancy/69292570?from=va...       None       None  \n",
            "7   https://barnaul.hh.ru/vacancy/53885115?from=va...       None       None  \n",
            "8   https://barnaul.hh.ru/vacancy/69410764?from=va...       None       None  \n",
            "9   https://barnaul.hh.ru/vacancy/69245215?from=va...       None       None  \n",
            "10  https://barnaul.hh.ru/vacancy/69245197?from=va...       None       None  \n",
            "11  https://barnaul.hh.ru/vacancy/67054541?from=va...       None       None  \n",
            "12  https://barnaul.hh.ru/vacancy/69016625?from=va...       None       None  \n",
            "13  https://barnaul.hh.ru/vacancy/69074029?from=va...       None       None  \n",
            "14  https://barnaul.hh.ru/vacancy/69824471?from=va...       None       None  \n",
            "15  https://barnaul.hh.ru/vacancy/69774675?from=va...       None       None  \n",
            "16  https://barnaul.hh.ru/vacancy/69888108?from=va...       None       None  \n",
            "17  https://barnaul.hh.ru/vacancy/69492359?from=va...     200000     400000  \n",
            "18  https://barnaul.hh.ru/vacancy/68218897?from=va...       None       None  \n",
            "19  https://barnaul.hh.ru/vacancy/55433917?from=va...       None       None  \n",
            "20  https://barnaul.hh.ru/vacancy/69862641?from=va...       None       None  \n",
            "21  https://barnaul.hh.ru/vacancy/46213657?from=va...       None       None  \n",
            "22  https://barnaul.hh.ru/vacancy/55433917?from=va...       None       None  \n",
            "23  https://barnaul.hh.ru/vacancy/69471842?from=va...       None       None  \n",
            "24  https://barnaul.hh.ru/vacancy/69706890?from=va...       None       None  \n",
            "25  https://barnaul.hh.ru/vacancy/69859241?from=va...       None       None  \n",
            "26  https://barnaul.hh.ru/vacancy/55271924?from=va...       None       None  \n",
            "27  https://barnaul.hh.ru/vacancy/69605023?from=va...       None       None  \n",
            "28  https://barnaul.hh.ru/vacancy/69342076?from=va...       None       None  \n",
            "29  https://barnaul.hh.ru/vacancy/69010140?from=va...       None       None  \n",
            "30  https://barnaul.hh.ru/vacancy/70528746?from=va...       None       None  \n",
            "31  https://barnaul.hh.ru/vacancy/66098655?from=va...       None       None  \n",
            "32  https://barnaul.hh.ru/vacancy/70176625?from=va...       None       None  \n",
            "33  https://barnaul.hh.ru/vacancy/69748730?from=va...       None       None  \n",
            "34  https://barnaul.hh.ru/vacancy/69716601?from=va...       None       None  \n",
            "35  https://barnaul.hh.ru/vacancy/69972636?from=va...     120000       None  \n",
            "36  https://barnaul.hh.ru/vacancy/70469051?from=va...        400        800  \n",
            "37  https://barnaul.hh.ru/vacancy/69991956?from=va...       None       None  \n",
            "38  https://barnaul.hh.ru/vacancy/69894832?from=va...       None       None  \n"
          ]
        }
      ]
    }
  ]
}